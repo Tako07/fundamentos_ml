{
  "nbformat": 4,
  "nbformat_minor": 0,
  "metadata": {
    "colab": {
      "name": "introduccion_pandas.ipynb",
      "provenance": [],
      "mount_file_id": "1e70S_WfaZp2X8aEVi6iXaq1ReqhpjjQK",
      "authorship_tag": "ABX9TyP38toHV9AOduKJVx3pRWAf",
      "include_colab_link": true
    },
    "kernelspec": {
      "name": "python3",
      "display_name": "Python 3"
    }
  },
  "cells": [
    {
      "cell_type": "markdown",
      "metadata": {
        "id": "view-in-github",
        "colab_type": "text"
      },
      "source": [
        "<a href=\"https://colab.research.google.com/github/Tako07/fundamentos_ml/blob/master/introduccion_pandas.ipynb\" target=\"_parent\"><img src=\"https://colab.research.google.com/assets/colab-badge.svg\" alt=\"Open In Colab\"/></a>"
      ]
    },
    {
      "cell_type": "markdown",
      "metadata": {
        "id": "zOY_FOVr7Ub_",
        "colab_type": "text"
      },
      "source": [
        "Manejo de archivos\n",
        "\n",
        "\n",
        "*   Series 1D\n",
        "*   Dataframes 2D\n",
        "*   Panels 3D\n",
        "\n"
      ]
    },
    {
      "cell_type": "code",
      "metadata": {
        "id": "DduWuiqa6rqQ",
        "colab_type": "code",
        "colab": {}
      },
      "source": [
        "import pandas as pd"
      ],
      "execution_count": 1,
      "outputs": []
    },
    {
      "cell_type": "code",
      "metadata": {
        "id": "N9tfrGrj7H1L",
        "colab_type": "code",
        "colab": {
          "base_uri": "https://localhost:8080/",
          "height": 118
        },
        "outputId": "c9ea0b73-2a3e-47a5-869a-b1716fa26f57"
      },
      "source": [
        "series = pd.Series([5,10,15,20,25])\n",
        "series"
      ],
      "execution_count": 2,
      "outputs": [
        {
          "output_type": "execute_result",
          "data": {
            "text/plain": [
              "0     5\n",
              "1    10\n",
              "2    15\n",
              "3    20\n",
              "4    25\n",
              "dtype: int64"
            ]
          },
          "metadata": {
            "tags": []
          },
          "execution_count": 2
        }
      ]
    },
    {
      "cell_type": "code",
      "metadata": {
        "id": "xKB9Yyf77Qv0",
        "colab_type": "code",
        "colab": {
          "base_uri": "https://localhost:8080/",
          "height": 34
        },
        "outputId": "4e414a6b-cace-448a-d70b-fd6fdb490dce"
      },
      "source": [
        "type(series)"
      ],
      "execution_count": 3,
      "outputs": [
        {
          "output_type": "execute_result",
          "data": {
            "text/plain": [
              "pandas.core.series.Series"
            ]
          },
          "metadata": {
            "tags": []
          },
          "execution_count": 3
        }
      ]
    },
    {
      "cell_type": "code",
      "metadata": {
        "id": "3ylkvfJC8GqY",
        "colab_type": "code",
        "colab": {
          "base_uri": "https://localhost:8080/",
          "height": 34
        },
        "outputId": "2e357646-3a7e-457d-a9d0-f0c6eabb828c"
      },
      "source": [
        "series[3]"
      ],
      "execution_count": 4,
      "outputs": [
        {
          "output_type": "execute_result",
          "data": {
            "text/plain": [
              "20"
            ]
          },
          "metadata": {
            "tags": []
          },
          "execution_count": 4
        }
      ]
    },
    {
      "cell_type": "code",
      "metadata": {
        "id": "hoMWgxCK8MJk",
        "colab_type": "code",
        "colab": {
          "base_uri": "https://localhost:8080/",
          "height": 151
        },
        "outputId": "305aafdd-2ce6-484c-9ac2-fd3f3f5600e4"
      },
      "source": [
        "cad = pd.Series(['t','a','k','e','s','h','i'])\n",
        "cad"
      ],
      "execution_count": 5,
      "outputs": [
        {
          "output_type": "execute_result",
          "data": {
            "text/plain": [
              "0    t\n",
              "1    a\n",
              "2    k\n",
              "3    e\n",
              "4    s\n",
              "5    h\n",
              "6    i\n",
              "dtype: object"
            ]
          },
          "metadata": {
            "tags": []
          },
          "execution_count": 5
        }
      ]
    },
    {
      "cell_type": "code",
      "metadata": {
        "id": "8u5xLiO_8W9m",
        "colab_type": "code",
        "colab": {
          "base_uri": "https://localhost:8080/",
          "height": 67
        },
        "outputId": "5f4d73c3-9f9b-4ef1-c2bb-f3ce63550885"
      },
      "source": [
        " lst = ['hola','mundo']\n",
        " df = pd.DataFrame(lst)\n",
        " print(df)"
      ],
      "execution_count": 6,
      "outputs": [
        {
          "output_type": "stream",
          "text": [
            "       0\n",
            "0   hola\n",
            "1  mundo\n"
          ],
          "name": "stdout"
        }
      ]
    },
    {
      "cell_type": "code",
      "metadata": {
        "id": "qCGnTapei6p7",
        "colab_type": "code",
        "colab": {
          "base_uri": "https://localhost:8080/",
          "height": 166
        },
        "outputId": "98295136-9722-4846-e175-b9aafc096896"
      },
      "source": [
        "data = {'Nombre': ['Juan','Ana','Jose','Arturo'],\n",
        "        'Edad': [25,18,23,27],\n",
        "        'Pais':['MX','CO','BR','MX']}\n",
        "df = pd.DataFrame(data)\n",
        "df"
      ],
      "execution_count": 7,
      "outputs": [
        {
          "output_type": "execute_result",
          "data": {
            "text/html": [
              "<div>\n",
              "<style scoped>\n",
              "    .dataframe tbody tr th:only-of-type {\n",
              "        vertical-align: middle;\n",
              "    }\n",
              "\n",
              "    .dataframe tbody tr th {\n",
              "        vertical-align: top;\n",
              "    }\n",
              "\n",
              "    .dataframe thead th {\n",
              "        text-align: right;\n",
              "    }\n",
              "</style>\n",
              "<table border=\"1\" class=\"dataframe\">\n",
              "  <thead>\n",
              "    <tr style=\"text-align: right;\">\n",
              "      <th></th>\n",
              "      <th>Nombre</th>\n",
              "      <th>Edad</th>\n",
              "      <th>Pais</th>\n",
              "    </tr>\n",
              "  </thead>\n",
              "  <tbody>\n",
              "    <tr>\n",
              "      <th>0</th>\n",
              "      <td>Juan</td>\n",
              "      <td>25</td>\n",
              "      <td>MX</td>\n",
              "    </tr>\n",
              "    <tr>\n",
              "      <th>1</th>\n",
              "      <td>Ana</td>\n",
              "      <td>18</td>\n",
              "      <td>CO</td>\n",
              "    </tr>\n",
              "    <tr>\n",
              "      <th>2</th>\n",
              "      <td>Jose</td>\n",
              "      <td>23</td>\n",
              "      <td>BR</td>\n",
              "    </tr>\n",
              "    <tr>\n",
              "      <th>3</th>\n",
              "      <td>Arturo</td>\n",
              "      <td>27</td>\n",
              "      <td>MX</td>\n",
              "    </tr>\n",
              "  </tbody>\n",
              "</table>\n",
              "</div>"
            ],
            "text/plain": [
              "   Nombre  Edad Pais\n",
              "0    Juan    25   MX\n",
              "1     Ana    18   CO\n",
              "2    Jose    23   BR\n",
              "3  Arturo    27   MX"
            ]
          },
          "metadata": {
            "tags": []
          },
          "execution_count": 7
        }
      ]
    },
    {
      "cell_type": "code",
      "metadata": {
        "id": "8taSdsL-ouNz",
        "colab_type": "code",
        "colab": {
          "base_uri": "https://localhost:8080/",
          "height": 101
        },
        "outputId": "53e93869-423b-4300-a35a-a9065b245693"
      },
      "source": [
        "print(df[['Nombre','Pais']])"
      ],
      "execution_count": 8,
      "outputs": [
        {
          "output_type": "stream",
          "text": [
            "   Nombre Pais\n",
            "0    Juan   MX\n",
            "1     Ana   CO\n",
            "2    Jose   BR\n",
            "3  Arturo   MX\n"
          ],
          "name": "stdout"
        }
      ]
    },
    {
      "cell_type": "code",
      "metadata": {
        "id": "SxKNy1pZo5xG",
        "colab_type": "code",
        "colab": {
          "base_uri": "https://localhost:8080/",
          "height": 54
        },
        "outputId": "b036a3e0-d1c7-4a40-b6c5-d44cb19f8c8c"
      },
      "source": [
        "from google.colab import drive\n",
        "drive.mount('/content/gdrive')"
      ],
      "execution_count": 10,
      "outputs": [
        {
          "output_type": "stream",
          "text": [
            "Drive already mounted at /content/gdrive; to attempt to forcibly remount, call drive.mount(\"/content/gdrive\", force_remount=True).\n"
          ],
          "name": "stdout"
        }
      ]
    },
    {
      "cell_type": "code",
      "metadata": {
        "id": "kDN08iLuquLP",
        "colab_type": "code",
        "colab": {}
      },
      "source": [
        "path = '/content/gdrive/My Drive/Colab Notebooks/files/canciones-2018_b2c776e4-1cce-40eb-b3e7-591ea6d29f83.csv'"
      ],
      "execution_count": 17,
      "outputs": []
    },
    {
      "cell_type": "code",
      "metadata": {
        "id": "Wtqg_15HrBjX",
        "colab_type": "code",
        "colab": {
          "base_uri": "https://localhost:8080/",
          "height": 333
        },
        "outputId": "78b3ec27-2012-41ad-ba44-913900dfa6ce"
      },
      "source": [
        "data =pd.read_csv(path)\n",
        "data.head(5)"
      ],
      "execution_count": 20,
      "outputs": [
        {
          "output_type": "execute_result",
          "data": {
            "text/html": [
              "<div>\n",
              "<style scoped>\n",
              "    .dataframe tbody tr th:only-of-type {\n",
              "        vertical-align: middle;\n",
              "    }\n",
              "\n",
              "    .dataframe tbody tr th {\n",
              "        vertical-align: top;\n",
              "    }\n",
              "\n",
              "    .dataframe thead th {\n",
              "        text-align: right;\n",
              "    }\n",
              "</style>\n",
              "<table border=\"1\" class=\"dataframe\">\n",
              "  <thead>\n",
              "    <tr style=\"text-align: right;\">\n",
              "      <th></th>\n",
              "      <th>id</th>\n",
              "      <th>name</th>\n",
              "      <th>artists</th>\n",
              "      <th>danceability</th>\n",
              "      <th>energy</th>\n",
              "      <th>key</th>\n",
              "      <th>loudness</th>\n",
              "      <th>mode</th>\n",
              "      <th>speechiness</th>\n",
              "      <th>acousticness</th>\n",
              "      <th>instrumentalness</th>\n",
              "      <th>liveness</th>\n",
              "      <th>valence</th>\n",
              "      <th>tempo</th>\n",
              "      <th>duration_ms</th>\n",
              "      <th>time_signature</th>\n",
              "    </tr>\n",
              "  </thead>\n",
              "  <tbody>\n",
              "    <tr>\n",
              "      <th>0</th>\n",
              "      <td>6DCZcSspjsKoFjzjrWoCd</td>\n",
              "      <td>God's Plan</td>\n",
              "      <td>Drake</td>\n",
              "      <td>0.754</td>\n",
              "      <td>0.449</td>\n",
              "      <td>7.0</td>\n",
              "      <td>-9.211</td>\n",
              "      <td>1.0</td>\n",
              "      <td>0.1090</td>\n",
              "      <td>0.0332</td>\n",
              "      <td>0.000083</td>\n",
              "      <td>0.552</td>\n",
              "      <td>0.357</td>\n",
              "      <td>77.169</td>\n",
              "      <td>198973.0</td>\n",
              "      <td>4.0</td>\n",
              "    </tr>\n",
              "    <tr>\n",
              "      <th>1</th>\n",
              "      <td>3ee8Jmje8o58CHK66QrVC</td>\n",
              "      <td>SAD!</td>\n",
              "      <td>XXXTENTACION</td>\n",
              "      <td>0.740</td>\n",
              "      <td>0.613</td>\n",
              "      <td>8.0</td>\n",
              "      <td>-4.880</td>\n",
              "      <td>1.0</td>\n",
              "      <td>0.1450</td>\n",
              "      <td>0.2580</td>\n",
              "      <td>0.003720</td>\n",
              "      <td>0.123</td>\n",
              "      <td>0.473</td>\n",
              "      <td>75.023</td>\n",
              "      <td>166606.0</td>\n",
              "      <td>4.0</td>\n",
              "    </tr>\n",
              "    <tr>\n",
              "      <th>2</th>\n",
              "      <td>0e7ipj03S05BNilyu5bRz</td>\n",
              "      <td>rockstar (feat. 21 Savage)</td>\n",
              "      <td>Post Malone</td>\n",
              "      <td>0.587</td>\n",
              "      <td>0.535</td>\n",
              "      <td>5.0</td>\n",
              "      <td>-6.090</td>\n",
              "      <td>0.0</td>\n",
              "      <td>0.0898</td>\n",
              "      <td>0.1170</td>\n",
              "      <td>0.000066</td>\n",
              "      <td>0.131</td>\n",
              "      <td>0.140</td>\n",
              "      <td>159.847</td>\n",
              "      <td>218147.0</td>\n",
              "      <td>4.0</td>\n",
              "    </tr>\n",
              "    <tr>\n",
              "      <th>3</th>\n",
              "      <td>3swc6WTsr7rl9DqQKQA55</td>\n",
              "      <td>Psycho (feat. Ty Dolla $ign)</td>\n",
              "      <td>Post Malone</td>\n",
              "      <td>0.739</td>\n",
              "      <td>0.559</td>\n",
              "      <td>8.0</td>\n",
              "      <td>-8.011</td>\n",
              "      <td>1.0</td>\n",
              "      <td>0.1170</td>\n",
              "      <td>0.5800</td>\n",
              "      <td>0.000000</td>\n",
              "      <td>0.112</td>\n",
              "      <td>0.439</td>\n",
              "      <td>140.124</td>\n",
              "      <td>221440.0</td>\n",
              "      <td>4.0</td>\n",
              "    </tr>\n",
              "    <tr>\n",
              "      <th>4</th>\n",
              "      <td>2G7V7zsVDxg1yRsu7Ew9R</td>\n",
              "      <td>In My Feelings</td>\n",
              "      <td>Drake</td>\n",
              "      <td>0.835</td>\n",
              "      <td>0.626</td>\n",
              "      <td>1.0</td>\n",
              "      <td>-5.833</td>\n",
              "      <td>1.0</td>\n",
              "      <td>0.1250</td>\n",
              "      <td>0.0589</td>\n",
              "      <td>0.000060</td>\n",
              "      <td>0.396</td>\n",
              "      <td>0.350</td>\n",
              "      <td>91.030</td>\n",
              "      <td>217925.0</td>\n",
              "      <td>4.0</td>\n",
              "    </tr>\n",
              "  </tbody>\n",
              "</table>\n",
              "</div>"
            ],
            "text/plain": [
              "                      id  ... time_signature\n",
              "0  6DCZcSspjsKoFjzjrWoCd  ...            4.0\n",
              "1  3ee8Jmje8o58CHK66QrVC  ...            4.0\n",
              "2  0e7ipj03S05BNilyu5bRz  ...            4.0\n",
              "3  3swc6WTsr7rl9DqQKQA55  ...            4.0\n",
              "4  2G7V7zsVDxg1yRsu7Ew9R  ...            4.0\n",
              "\n",
              "[5 rows x 16 columns]"
            ]
          },
          "metadata": {
            "tags": []
          },
          "execution_count": 20
        }
      ]
    },
    {
      "cell_type": "code",
      "metadata": {
        "id": "dTq6ws2xrGsu",
        "colab_type": "code",
        "colab": {
          "base_uri": "https://localhost:8080/",
          "height": 35
        },
        "outputId": "e9161905-7927-45f4-c89a-22f455f57fb9"
      },
      "source": [
        "artista = data.artists\n",
        "artista[5]"
      ],
      "execution_count": 21,
      "outputs": [
        {
          "output_type": "execute_result",
          "data": {
            "application/vnd.google.colaboratory.intrinsic": {
              "type": "string"
            },
            "text/plain": [
              "'Post Malone'"
            ]
          },
          "metadata": {
            "tags": []
          },
          "execution_count": 21
        }
      ]
    },
    {
      "cell_type": "code",
      "metadata": {
        "id": "sgsXdWzQsCke",
        "colab_type": "code",
        "colab": {
          "base_uri": "https://localhost:8080/",
          "height": 302
        },
        "outputId": "e760808f-b529-4489-f056-3c98f58d924c"
      },
      "source": [
        "info = data.iloc[15]\n",
        "info"
      ],
      "execution_count": 22,
      "outputs": [
        {
          "output_type": "execute_result",
          "data": {
            "text/plain": [
              "id                     3GCdLUSnKSMJhs4Tj6CV3\n",
              "name                All The Stars (with SZA)\n",
              "artists                       Kendrick Lamar\n",
              "danceability                           0.698\n",
              "energy                                 0.633\n",
              "key                                        8\n",
              "loudness                              -4.946\n",
              "mode                                       1\n",
              "speechiness                           0.0597\n",
              "acousticness                          0.0605\n",
              "instrumentalness                    0.000194\n",
              "liveness                              0.0926\n",
              "valence                                0.552\n",
              "tempo                                 96.924\n",
              "duration_ms                           232187\n",
              "time_signature                             4\n",
              "Name: 15, dtype: object"
            ]
          },
          "metadata": {
            "tags": []
          },
          "execution_count": 22
        }
      ]
    },
    {
      "cell_type": "code",
      "metadata": {
        "id": "L_XsznPusI7l",
        "colab_type": "code",
        "colab": {
          "base_uri": "https://localhost:8080/",
          "height": 383
        },
        "outputId": "3f8ea2ec-9fb0-4c88-9125-46ada4690151"
      },
      "source": [
        "data.tail()"
      ],
      "execution_count": 23,
      "outputs": [
        {
          "output_type": "execute_result",
          "data": {
            "text/html": [
              "<div>\n",
              "<style scoped>\n",
              "    .dataframe tbody tr th:only-of-type {\n",
              "        vertical-align: middle;\n",
              "    }\n",
              "\n",
              "    .dataframe tbody tr th {\n",
              "        vertical-align: top;\n",
              "    }\n",
              "\n",
              "    .dataframe thead th {\n",
              "        text-align: right;\n",
              "    }\n",
              "</style>\n",
              "<table border=\"1\" class=\"dataframe\">\n",
              "  <thead>\n",
              "    <tr style=\"text-align: right;\">\n",
              "      <th></th>\n",
              "      <th>id</th>\n",
              "      <th>name</th>\n",
              "      <th>artists</th>\n",
              "      <th>danceability</th>\n",
              "      <th>energy</th>\n",
              "      <th>key</th>\n",
              "      <th>loudness</th>\n",
              "      <th>mode</th>\n",
              "      <th>speechiness</th>\n",
              "      <th>acousticness</th>\n",
              "      <th>instrumentalness</th>\n",
              "      <th>liveness</th>\n",
              "      <th>valence</th>\n",
              "      <th>tempo</th>\n",
              "      <th>duration_ms</th>\n",
              "      <th>time_signature</th>\n",
              "    </tr>\n",
              "  </thead>\n",
              "  <tbody>\n",
              "    <tr>\n",
              "      <th>95</th>\n",
              "      <td>630sXRhIcfwr2e4RdNtjK</td>\n",
              "      <td>Rewrite The Stars</td>\n",
              "      <td>Zac Efron</td>\n",
              "      <td>0.684</td>\n",
              "      <td>0.619</td>\n",
              "      <td>10.0</td>\n",
              "      <td>-7.005</td>\n",
              "      <td>1.0</td>\n",
              "      <td>0.0386</td>\n",
              "      <td>0.0716</td>\n",
              "      <td>0.000000</td>\n",
              "      <td>0.1220</td>\n",
              "      <td>0.2840</td>\n",
              "      <td>125.046</td>\n",
              "      <td>217440.0</td>\n",
              "      <td>4.0</td>\n",
              "    </tr>\n",
              "    <tr>\n",
              "      <th>96</th>\n",
              "      <td>2xmrfQpmS2iJExTlklLoA</td>\n",
              "      <td>I Miss You (feat. Julia Michaels)</td>\n",
              "      <td>Clean Bandit</td>\n",
              "      <td>0.638</td>\n",
              "      <td>0.658</td>\n",
              "      <td>3.0</td>\n",
              "      <td>-6.318</td>\n",
              "      <td>1.0</td>\n",
              "      <td>0.0456</td>\n",
              "      <td>0.2450</td>\n",
              "      <td>0.000004</td>\n",
              "      <td>0.0919</td>\n",
              "      <td>0.3300</td>\n",
              "      <td>105.076</td>\n",
              "      <td>205748.0</td>\n",
              "      <td>4.0</td>\n",
              "    </tr>\n",
              "    <tr>\n",
              "      <th>97</th>\n",
              "      <td>5WvAo7DNuPRmk4APhdPzi</td>\n",
              "      <td>No Brainer</td>\n",
              "      <td>DJ Khaled</td>\n",
              "      <td>0.552</td>\n",
              "      <td>0.760</td>\n",
              "      <td>0.0</td>\n",
              "      <td>-4.706</td>\n",
              "      <td>1.0</td>\n",
              "      <td>0.3420</td>\n",
              "      <td>0.0733</td>\n",
              "      <td>0.000000</td>\n",
              "      <td>0.0865</td>\n",
              "      <td>0.6390</td>\n",
              "      <td>135.702</td>\n",
              "      <td>260000.0</td>\n",
              "      <td>5.0</td>\n",
              "    </tr>\n",
              "    <tr>\n",
              "      <th>98</th>\n",
              "      <td>1j4kHkkpqZRBwE0A4CN4Y</td>\n",
              "      <td>Dusk Till Dawn - Radio Edit</td>\n",
              "      <td>ZAYN</td>\n",
              "      <td>0.258</td>\n",
              "      <td>0.437</td>\n",
              "      <td>11.0</td>\n",
              "      <td>-6.593</td>\n",
              "      <td>0.0</td>\n",
              "      <td>0.0390</td>\n",
              "      <td>0.1010</td>\n",
              "      <td>0.000001</td>\n",
              "      <td>0.1060</td>\n",
              "      <td>0.0967</td>\n",
              "      <td>180.043</td>\n",
              "      <td>239000.0</td>\n",
              "      <td>4.0</td>\n",
              "    </tr>\n",
              "    <tr>\n",
              "      <th>99</th>\n",
              "      <td>3EPXxR3ImUwfayaurPi3c</td>\n",
              "      <td>Be Alright</td>\n",
              "      <td>Dean Lewis</td>\n",
              "      <td>0.553</td>\n",
              "      <td>0.586</td>\n",
              "      <td>11.0</td>\n",
              "      <td>-6.319</td>\n",
              "      <td>1.0</td>\n",
              "      <td>0.0362</td>\n",
              "      <td>0.6970</td>\n",
              "      <td>0.000000</td>\n",
              "      <td>0.0813</td>\n",
              "      <td>0.4430</td>\n",
              "      <td>126.684</td>\n",
              "      <td>196373.0</td>\n",
              "      <td>4.0</td>\n",
              "    </tr>\n",
              "  </tbody>\n",
              "</table>\n",
              "</div>"
            ],
            "text/plain": [
              "                       id  ... time_signature\n",
              "95  630sXRhIcfwr2e4RdNtjK  ...            4.0\n",
              "96  2xmrfQpmS2iJExTlklLoA  ...            4.0\n",
              "97  5WvAo7DNuPRmk4APhdPzi  ...            5.0\n",
              "98  1j4kHkkpqZRBwE0A4CN4Y  ...            4.0\n",
              "99  3EPXxR3ImUwfayaurPi3c  ...            4.0\n",
              "\n",
              "[5 rows x 16 columns]"
            ]
          },
          "metadata": {
            "tags": []
          },
          "execution_count": 23
        }
      ]
    },
    {
      "cell_type": "code",
      "metadata": {
        "id": "A5xghF65sOWQ",
        "colab_type": "code",
        "colab": {
          "base_uri": "https://localhost:8080/",
          "height": 34
        },
        "outputId": "1f81415c-4acd-4ee4-f47d-bcb280502963"
      },
      "source": [
        "data.shape"
      ],
      "execution_count": 24,
      "outputs": [
        {
          "output_type": "execute_result",
          "data": {
            "text/plain": [
              "(100, 16)"
            ]
          },
          "metadata": {
            "tags": []
          },
          "execution_count": 24
        }
      ]
    },
    {
      "cell_type": "code",
      "metadata": {
        "id": "LZcfoSExsQzg",
        "colab_type": "code",
        "colab": {
          "base_uri": "https://localhost:8080/",
          "height": 84
        },
        "outputId": "3bf48303-6b1b-4aca-dbad-24832a5d8ac2"
      },
      "source": [
        "data.columns"
      ],
      "execution_count": 25,
      "outputs": [
        {
          "output_type": "execute_result",
          "data": {
            "text/plain": [
              "Index(['id', 'name', 'artists', 'danceability', 'energy', 'key', 'loudness',\n",
              "       'mode', 'speechiness', 'acousticness', 'instrumentalness', 'liveness',\n",
              "       'valence', 'tempo', 'duration_ms', 'time_signature'],\n",
              "      dtype='object')"
            ]
          },
          "metadata": {
            "tags": []
          },
          "execution_count": 25
        }
      ]
    },
    {
      "cell_type": "code",
      "metadata": {
        "id": "kjx-vI90sTIn",
        "colab_type": "code",
        "colab": {
          "base_uri": "https://localhost:8080/",
          "height": 168
        },
        "outputId": "99dc00fb-97b2-4151-d209-6967e2b5a998"
      },
      "source": [
        "data['tempo'].describe()"
      ],
      "execution_count": 26,
      "outputs": [
        {
          "output_type": "execute_result",
          "data": {
            "text/plain": [
              "count    100.000000\n",
              "mean     119.904180\n",
              "std       28.795984\n",
              "min       64.934000\n",
              "25%       95.730750\n",
              "50%      120.116000\n",
              "75%      140.022750\n",
              "max      198.075000\n",
              "Name: tempo, dtype: float64"
            ]
          },
          "metadata": {
            "tags": []
          },
          "execution_count": 26
        }
      ]
    },
    {
      "cell_type": "code",
      "metadata": {
        "id": "wg6xoeN4sYfB",
        "colab_type": "code",
        "colab": {
          "base_uri": "https://localhost:8080/",
          "height": 690
        },
        "outputId": "5da97e94-7f94-4114-9cf2-c7da3cddc098"
      },
      "source": [
        "data.sort_index(axis=0, ascending=False)"
      ],
      "execution_count": 27,
      "outputs": [
        {
          "output_type": "execute_result",
          "data": {
            "text/html": [
              "<div>\n",
              "<style scoped>\n",
              "    .dataframe tbody tr th:only-of-type {\n",
              "        vertical-align: middle;\n",
              "    }\n",
              "\n",
              "    .dataframe tbody tr th {\n",
              "        vertical-align: top;\n",
              "    }\n",
              "\n",
              "    .dataframe thead th {\n",
              "        text-align: right;\n",
              "    }\n",
              "</style>\n",
              "<table border=\"1\" class=\"dataframe\">\n",
              "  <thead>\n",
              "    <tr style=\"text-align: right;\">\n",
              "      <th></th>\n",
              "      <th>id</th>\n",
              "      <th>name</th>\n",
              "      <th>artists</th>\n",
              "      <th>danceability</th>\n",
              "      <th>energy</th>\n",
              "      <th>key</th>\n",
              "      <th>loudness</th>\n",
              "      <th>mode</th>\n",
              "      <th>speechiness</th>\n",
              "      <th>acousticness</th>\n",
              "      <th>instrumentalness</th>\n",
              "      <th>liveness</th>\n",
              "      <th>valence</th>\n",
              "      <th>tempo</th>\n",
              "      <th>duration_ms</th>\n",
              "      <th>time_signature</th>\n",
              "    </tr>\n",
              "  </thead>\n",
              "  <tbody>\n",
              "    <tr>\n",
              "      <th>99</th>\n",
              "      <td>3EPXxR3ImUwfayaurPi3c</td>\n",
              "      <td>Be Alright</td>\n",
              "      <td>Dean Lewis</td>\n",
              "      <td>0.553</td>\n",
              "      <td>0.586</td>\n",
              "      <td>11.0</td>\n",
              "      <td>-6.319</td>\n",
              "      <td>1.0</td>\n",
              "      <td>0.0362</td>\n",
              "      <td>0.6970</td>\n",
              "      <td>0.000000</td>\n",
              "      <td>0.0813</td>\n",
              "      <td>0.4430</td>\n",
              "      <td>126.684</td>\n",
              "      <td>196373.0</td>\n",
              "      <td>4.0</td>\n",
              "    </tr>\n",
              "    <tr>\n",
              "      <th>98</th>\n",
              "      <td>1j4kHkkpqZRBwE0A4CN4Y</td>\n",
              "      <td>Dusk Till Dawn - Radio Edit</td>\n",
              "      <td>ZAYN</td>\n",
              "      <td>0.258</td>\n",
              "      <td>0.437</td>\n",
              "      <td>11.0</td>\n",
              "      <td>-6.593</td>\n",
              "      <td>0.0</td>\n",
              "      <td>0.0390</td>\n",
              "      <td>0.1010</td>\n",
              "      <td>0.000001</td>\n",
              "      <td>0.1060</td>\n",
              "      <td>0.0967</td>\n",
              "      <td>180.043</td>\n",
              "      <td>239000.0</td>\n",
              "      <td>4.0</td>\n",
              "    </tr>\n",
              "    <tr>\n",
              "      <th>97</th>\n",
              "      <td>5WvAo7DNuPRmk4APhdPzi</td>\n",
              "      <td>No Brainer</td>\n",
              "      <td>DJ Khaled</td>\n",
              "      <td>0.552</td>\n",
              "      <td>0.760</td>\n",
              "      <td>0.0</td>\n",
              "      <td>-4.706</td>\n",
              "      <td>1.0</td>\n",
              "      <td>0.3420</td>\n",
              "      <td>0.0733</td>\n",
              "      <td>0.000000</td>\n",
              "      <td>0.0865</td>\n",
              "      <td>0.6390</td>\n",
              "      <td>135.702</td>\n",
              "      <td>260000.0</td>\n",
              "      <td>5.0</td>\n",
              "    </tr>\n",
              "    <tr>\n",
              "      <th>96</th>\n",
              "      <td>2xmrfQpmS2iJExTlklLoA</td>\n",
              "      <td>I Miss You (feat. Julia Michaels)</td>\n",
              "      <td>Clean Bandit</td>\n",
              "      <td>0.638</td>\n",
              "      <td>0.658</td>\n",
              "      <td>3.0</td>\n",
              "      <td>-6.318</td>\n",
              "      <td>1.0</td>\n",
              "      <td>0.0456</td>\n",
              "      <td>0.2450</td>\n",
              "      <td>0.000004</td>\n",
              "      <td>0.0919</td>\n",
              "      <td>0.3300</td>\n",
              "      <td>105.076</td>\n",
              "      <td>205748.0</td>\n",
              "      <td>4.0</td>\n",
              "    </tr>\n",
              "    <tr>\n",
              "      <th>95</th>\n",
              "      <td>630sXRhIcfwr2e4RdNtjK</td>\n",
              "      <td>Rewrite The Stars</td>\n",
              "      <td>Zac Efron</td>\n",
              "      <td>0.684</td>\n",
              "      <td>0.619</td>\n",
              "      <td>10.0</td>\n",
              "      <td>-7.005</td>\n",
              "      <td>1.0</td>\n",
              "      <td>0.0386</td>\n",
              "      <td>0.0716</td>\n",
              "      <td>0.000000</td>\n",
              "      <td>0.1220</td>\n",
              "      <td>0.2840</td>\n",
              "      <td>125.046</td>\n",
              "      <td>217440.0</td>\n",
              "      <td>4.0</td>\n",
              "    </tr>\n",
              "    <tr>\n",
              "      <th>...</th>\n",
              "      <td>...</td>\n",
              "      <td>...</td>\n",
              "      <td>...</td>\n",
              "      <td>...</td>\n",
              "      <td>...</td>\n",
              "      <td>...</td>\n",
              "      <td>...</td>\n",
              "      <td>...</td>\n",
              "      <td>...</td>\n",
              "      <td>...</td>\n",
              "      <td>...</td>\n",
              "      <td>...</td>\n",
              "      <td>...</td>\n",
              "      <td>...</td>\n",
              "      <td>...</td>\n",
              "      <td>...</td>\n",
              "    </tr>\n",
              "    <tr>\n",
              "      <th>4</th>\n",
              "      <td>2G7V7zsVDxg1yRsu7Ew9R</td>\n",
              "      <td>In My Feelings</td>\n",
              "      <td>Drake</td>\n",
              "      <td>0.835</td>\n",
              "      <td>0.626</td>\n",
              "      <td>1.0</td>\n",
              "      <td>-5.833</td>\n",
              "      <td>1.0</td>\n",
              "      <td>0.1250</td>\n",
              "      <td>0.0589</td>\n",
              "      <td>0.000060</td>\n",
              "      <td>0.3960</td>\n",
              "      <td>0.3500</td>\n",
              "      <td>91.030</td>\n",
              "      <td>217925.0</td>\n",
              "      <td>4.0</td>\n",
              "    </tr>\n",
              "    <tr>\n",
              "      <th>3</th>\n",
              "      <td>3swc6WTsr7rl9DqQKQA55</td>\n",
              "      <td>Psycho (feat. Ty Dolla $ign)</td>\n",
              "      <td>Post Malone</td>\n",
              "      <td>0.739</td>\n",
              "      <td>0.559</td>\n",
              "      <td>8.0</td>\n",
              "      <td>-8.011</td>\n",
              "      <td>1.0</td>\n",
              "      <td>0.1170</td>\n",
              "      <td>0.5800</td>\n",
              "      <td>0.000000</td>\n",
              "      <td>0.1120</td>\n",
              "      <td>0.4390</td>\n",
              "      <td>140.124</td>\n",
              "      <td>221440.0</td>\n",
              "      <td>4.0</td>\n",
              "    </tr>\n",
              "    <tr>\n",
              "      <th>2</th>\n",
              "      <td>0e7ipj03S05BNilyu5bRz</td>\n",
              "      <td>rockstar (feat. 21 Savage)</td>\n",
              "      <td>Post Malone</td>\n",
              "      <td>0.587</td>\n",
              "      <td>0.535</td>\n",
              "      <td>5.0</td>\n",
              "      <td>-6.090</td>\n",
              "      <td>0.0</td>\n",
              "      <td>0.0898</td>\n",
              "      <td>0.1170</td>\n",
              "      <td>0.000066</td>\n",
              "      <td>0.1310</td>\n",
              "      <td>0.1400</td>\n",
              "      <td>159.847</td>\n",
              "      <td>218147.0</td>\n",
              "      <td>4.0</td>\n",
              "    </tr>\n",
              "    <tr>\n",
              "      <th>1</th>\n",
              "      <td>3ee8Jmje8o58CHK66QrVC</td>\n",
              "      <td>SAD!</td>\n",
              "      <td>XXXTENTACION</td>\n",
              "      <td>0.740</td>\n",
              "      <td>0.613</td>\n",
              "      <td>8.0</td>\n",
              "      <td>-4.880</td>\n",
              "      <td>1.0</td>\n",
              "      <td>0.1450</td>\n",
              "      <td>0.2580</td>\n",
              "      <td>0.003720</td>\n",
              "      <td>0.1230</td>\n",
              "      <td>0.4730</td>\n",
              "      <td>75.023</td>\n",
              "      <td>166606.0</td>\n",
              "      <td>4.0</td>\n",
              "    </tr>\n",
              "    <tr>\n",
              "      <th>0</th>\n",
              "      <td>6DCZcSspjsKoFjzjrWoCd</td>\n",
              "      <td>God's Plan</td>\n",
              "      <td>Drake</td>\n",
              "      <td>0.754</td>\n",
              "      <td>0.449</td>\n",
              "      <td>7.0</td>\n",
              "      <td>-9.211</td>\n",
              "      <td>1.0</td>\n",
              "      <td>0.1090</td>\n",
              "      <td>0.0332</td>\n",
              "      <td>0.000083</td>\n",
              "      <td>0.5520</td>\n",
              "      <td>0.3570</td>\n",
              "      <td>77.169</td>\n",
              "      <td>198973.0</td>\n",
              "      <td>4.0</td>\n",
              "    </tr>\n",
              "  </tbody>\n",
              "</table>\n",
              "<p>100 rows × 16 columns</p>\n",
              "</div>"
            ],
            "text/plain": [
              "                       id  ... time_signature\n",
              "99  3EPXxR3ImUwfayaurPi3c  ...            4.0\n",
              "98  1j4kHkkpqZRBwE0A4CN4Y  ...            4.0\n",
              "97  5WvAo7DNuPRmk4APhdPzi  ...            5.0\n",
              "96  2xmrfQpmS2iJExTlklLoA  ...            4.0\n",
              "95  630sXRhIcfwr2e4RdNtjK  ...            4.0\n",
              "..                    ...  ...            ...\n",
              "4   2G7V7zsVDxg1yRsu7Ew9R  ...            4.0\n",
              "3   3swc6WTsr7rl9DqQKQA55  ...            4.0\n",
              "2   0e7ipj03S05BNilyu5bRz  ...            4.0\n",
              "1   3ee8Jmje8o58CHK66QrVC  ...            4.0\n",
              "0   6DCZcSspjsKoFjzjrWoCd  ...            4.0\n",
              "\n",
              "[100 rows x 16 columns]"
            ]
          },
          "metadata": {
            "tags": []
          },
          "execution_count": 27
        }
      ]
    },
    {
      "cell_type": "code",
      "metadata": {
        "id": "la7MpZBtseJb",
        "colab_type": "code",
        "colab": {}
      },
      "source": [
        ""
      ],
      "execution_count": null,
      "outputs": []
    }
  ]
}